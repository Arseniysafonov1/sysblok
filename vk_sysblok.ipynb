{
 "cells": [
  {
   "cell_type": "code",
   "execution_count": 32,
   "metadata": {},
   "outputs": [],
   "source": [
    "import requests"
   ]
  },
  {
   "cell_type": "code",
   "execution_count": 33,
   "metadata": {},
   "outputs": [],
   "source": [
    "# заходим на сайт вк апи и создаем стэндалон приложение\n",
    "# копируем сервисный ключ доступа в токен\n",
    "access_token = '1a7df72d1a7df72d1a7df72d5b1a14aa8d11a7d1a7df72d46edf20728a8d491b9590d42'\n",
    "api_version = '5.92'"
   ]
  },
  {
   "cell_type": "code",
   "execution_count": 34,
   "metadata": {},
   "outputs": [
    {
     "data": {
      "text/plain": [
       "{'response': [{'id': 1,\n",
       "   'first_name': 'Pavel',\n",
       "   'last_name': 'Durov',\n",
       "   'is_closed': False,\n",
       "   'can_access_closed': True}]}"
      ]
     },
     "execution_count": 34,
     "metadata": {},
     "output_type": "execute_result"
    }
   ],
   "source": [
    "# достаем информацию об одном пользователе\n",
    "res_users = requests.get(f'https://api.vk.com/method/users.get?user_ids=1&access_token={access_token}&v={api_version}')\n",
    "res_users.json()"
   ]
  },
  {
   "cell_type": "code",
   "execution_count": 21,
   "metadata": {},
   "outputs": [
    {
     "data": {
      "text/plain": [
       "{'response': [{'id': 1,\n",
       "   'first_name': 'Pavel',\n",
       "   'last_name': 'Durov',\n",
       "   'is_closed': False,\n",
       "   'can_access_closed': True,\n",
       "   'bdate': '10.10.1984',\n",
       "   'city': {'id': 2, 'title': 'Saint Petersburg'}}]}"
      ]
     },
     "execution_count": 21,
     "metadata": {},
     "output_type": "execute_result"
    }
   ],
   "source": [
    "# Можно ещё достать дополнительную информацию через поле fields\n",
    "res_users = requests.get(f'https://api.vk.com/method/users.get?user_ids=1&fields=bdate, city&access_token={access_token}&v={api_version}')\n",
    "res_users.json()"
   ]
  },
  {
   "cell_type": "code",
   "execution_count": 22,
   "metadata": {},
   "outputs": [
    {
     "name": "stdout",
     "output_type": "stream",
     "text": [
      "0\n",
      "100\n",
      "200\n"
     ]
    },
    {
     "data": {
      "text/plain": [
       "['Zverev', 'Kozlov', 'Vilonova', 'Tsyganov', 'Khalyuk']"
      ]
     },
     "execution_count": 22,
     "metadata": {},
     "output_type": "execute_result"
    }
   ],
   "source": [
    "## Друзья пользователя (Pavel Durov)\n",
    "\n",
    "# запишем в лист 300 первых друзей (ТУТ ПРОБЛЕМА, ПОНЯТЬ, ЧТО ДЕЛАТЬ)\n",
    "url = 'https://api.vk.com/method/users.getFollowers?user_id=1&fields=city,country&count=100&offset={offset}&access_token={access_token}&v={api_version}'\n",
    "\n",
    "friends = []\n",
    "for i in range(0, 201, 100): \n",
    "    url_formatted = url.format(access_token = access_token, api_version = api_version, offset = i)\n",
    "    print(i)\n",
    "    res_friends = requests.get(url_formatted)\n",
    "    for friend in res_friends.json()[\"response\"]['items']:\n",
    "        friends.append(friend[\"last_name\"])\n",
    "\n",
    "# посмотрим на первые 5 подписчиков\n",
    "friends[:5]"
   ]
  },
  {
   "cell_type": "code",
   "execution_count": 27,
   "metadata": {},
   "outputs": [
    {
     "data": {
      "text/plain": [
       "{'id': 3280,\n",
       " 'from_id': -128512130,\n",
       " 'owner_id': -128512130,\n",
       " 'date': 1552715873,\n",
       " 'marked_as_ads': 0,\n",
       " 'post_type': 'post',\n",
       " 'text': 'опять \\nпары в субботу\\nопять сплю',\n",
       " 'post_source': {'type': 'api', 'platform': 'iphone'},\n",
       " 'comments': {'count': 0, 'can_post': 1, 'groups_can_post': True},\n",
       " 'likes': {'count': 17, 'user_likes': 0, 'can_like': 1, 'can_publish': 1},\n",
       " 'reposts': {'count': 0, 'user_reposted': 0},\n",
       " 'views': {'count': 344}}"
      ]
     },
     "execution_count": 27,
     "metadata": {},
     "output_type": "execute_result"
    }
   ],
   "source": [
    "## Скачать посты в группе \n",
    "\n",
    "res_wall = requests.get(f'https://api.vk.com/method/wall.get?domain=hsehokku&count=100&access_token={access_token}&v={api_version}')\n",
    "# получаем сотню постиков со стены \n",
    "# посмотрим, как выглядит выдача \n",
    "res_wall.json()[\"response\"]['items'][1]\n"
   ]
  },
  {
   "cell_type": "code",
   "execution_count": 28,
   "metadata": {
    "scrolled": true
   },
   "outputs": [
    {
     "name": "stdout",
     "output_type": "stream",
     "text": [
      "0\n",
      "100\n",
      "200\n",
      "300\n"
     ]
    }
   ],
   "source": [
    "# теперь соберем первые 400 постов\n",
    "# для этого надо добавить параметр оффсет, который отвечает за отступ. значит, нам надо сделать 3 отступа, за каждый из которых будем собирать по 100 постов  \n",
    "# и каждый скачанный постик добавляем в лист texts\n",
    "url = 'https://api.vk.com/method/wall.get?domain=hsehokku&count=100&offset = {offset}&access_token={access_token}&v={api_version}'\n",
    "\n",
    "texts = []\n",
    "for i in range(0, 301, 100): \n",
    "    url_formatted = url.format(access_token = access_token, api_version = api_version, offset = i)\n",
    "    print(i)\n",
    "    res_wall = requests.get(url_formatted)\n",
    "    for post in res_wall.json()[\"response\"]['items']:\n",
    "        texts.append(post[\"text\"])\n",
    "\n"
   ]
  },
  {
   "cell_type": "code",
   "execution_count": 30,
   "metadata": {},
   "outputs": [
    {
     "data": {
      "text/plain": [
       "['говорила мама\\nпоступай в университет\\nснова в школе гакусэй',\n",
       " 'опять \\nпары в субботу\\nопять сплю',\n",
       " 'начался год \\nне успел оглянуться ронин\\nуже март',\n",
       " 'реферат эссе\\nдоклады и билеты\\nхорошая неделя',\n",
       " 'с праздником весны\\nпоздравляет самурай\\nпусть сойдёт снег']"
      ]
     },
     "execution_count": 30,
     "metadata": {},
     "output_type": "execute_result"
    }
   ],
   "source": [
    "# посмотрим на скачанное      \n",
    "texts[:5]   "
   ]
  },
  {
   "cell_type": "code",
   "execution_count": 31,
   "metadata": {},
   "outputs": [],
   "source": [
    "# и запишем их в файл в корневой папке\n",
    "with open(\"vk.texts.txt\", \"wt\", encoding = \"utf8\") as f:\n",
    "    for text in texts:\n",
    "        f.write(text.replace(\"\\n\", \" \") + \"\\n\")\n",
    "        \n",
    "# Поздравляем, Вы стали счастливым обладателем сборника страдальческих студенческих хокку!"
   ]
  }
 ],
 "metadata": {
  "kernelspec": {
   "display_name": "Python 3",
   "language": "python",
   "name": "python3"
  },
  "language_info": {
   "codemirror_mode": {
    "name": "ipython",
    "version": 3
   },
   "file_extension": ".py",
   "mimetype": "text/x-python",
   "name": "python",
   "nbconvert_exporter": "python",
   "pygments_lexer": "ipython3",
   "version": "3.7.2"
  }
 },
 "nbformat": 4,
 "nbformat_minor": 2
}
